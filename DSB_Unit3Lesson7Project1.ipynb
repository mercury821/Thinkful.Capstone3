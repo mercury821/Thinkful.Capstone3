{
 "cells": [
  {
   "cell_type": "code",
   "execution_count": 1,
   "metadata": {},
   "outputs": [],
   "source": [
    "import matplotlib.pyplot as plt\n",
    "import numpy as np\n",
    "import pandas as pd\n",
    "import seaborn as sns\n",
    "from sklearn.metrics import roc_auc_score\n",
    "from sklearn.model_selection import cross_val_score\n",
    "from sklearn.pipeline import make_pipeline\n",
    "from sklearn.svm import SVR\n",
    "from sklearn.svm import SVC\n",
    "from sklearn.utils import resample\n",
    "from sklearn.feature_selection import SelectKBest, f_classif\n",
    "%matplotlib inline\n"
   ]
  },
  {
   "cell_type": "code",
   "execution_count": 2,
   "metadata": {},
   "outputs": [],
   "source": [
    "import statsmodels.api as sm\n",
    "from sklearn import ensemble\n",
    "from sklearn import datasets\n",
    "from sklearn import linear_model\n",
    "from sklearn.utils import shuffle\n",
    "from sklearn.metrics import mean_squared_error\n",
    "from sklearn.model_selection import train_test_split\n",
    "from IPython.display import Image\n",
    "from sklearn import ensemble\n",
    "from sklearn import tree\n",
    "import pydotplus\n",
    "from scipy import stats\n",
    "from math import sqrt\n",
    "from scipy.stats import ttest_ind\n",
    "from scipy.stats import ks_2samp\n",
    "from sklearn.model_selection import cross_val_score\n",
    "import timeit\n",
    "import warnings\n",
    "warnings.filterwarnings('ignore')"
   ]
  },
  {
   "cell_type": "code",
   "execution_count": 3,
   "metadata": {},
   "outputs": [
    {
     "data": {
      "text/html": [
       "<div>\n",
       "<style scoped>\n",
       "    .dataframe tbody tr th:only-of-type {\n",
       "        vertical-align: middle;\n",
       "    }\n",
       "\n",
       "    .dataframe tbody tr th {\n",
       "        vertical-align: top;\n",
       "    }\n",
       "\n",
       "    .dataframe thead th {\n",
       "        text-align: right;\n",
       "    }\n",
       "</style>\n",
       "<table border=\"1\" class=\"dataframe\">\n",
       "  <thead>\n",
       "    <tr style=\"text-align: right;\">\n",
       "      <th></th>\n",
       "      <th>artist.hotttnesss</th>\n",
       "      <th>artist.id</th>\n",
       "      <th>artist.name</th>\n",
       "      <th>artist_mbtags</th>\n",
       "      <th>artist_mbtags_count</th>\n",
       "      <th>bars_confidence</th>\n",
       "      <th>bars_start</th>\n",
       "      <th>beats_confidence</th>\n",
       "      <th>beats_start</th>\n",
       "      <th>duration</th>\n",
       "      <th>end_of_fade_in</th>\n",
       "      <th>familiarity</th>\n",
       "      <th>key</th>\n",
       "      <th>key_confidence</th>\n",
       "      <th>latitude</th>\n",
       "      <th>location</th>\n",
       "      <th>longitude</th>\n",
       "      <th>loudness</th>\n",
       "      <th>mode</th>\n",
       "      <th>mode_confidence</th>\n",
       "      <th>release.id</th>\n",
       "      <th>release.name</th>\n",
       "      <th>similar</th>\n",
       "      <th>song.hotttnesss</th>\n",
       "      <th>song.id</th>\n",
       "      <th>start_of_fade_out</th>\n",
       "      <th>tatums_confidence</th>\n",
       "      <th>tatums_start</th>\n",
       "      <th>tempo</th>\n",
       "      <th>terms</th>\n",
       "      <th>terms_freq</th>\n",
       "      <th>time_signature</th>\n",
       "      <th>time_signature_confidence</th>\n",
       "      <th>title</th>\n",
       "      <th>year</th>\n",
       "    </tr>\n",
       "  </thead>\n",
       "  <tbody>\n",
       "    <tr>\n",
       "      <th>0</th>\n",
       "      <td>0.401998</td>\n",
       "      <td>ARD7TVE1187B99BFB1</td>\n",
       "      <td>Casual</td>\n",
       "      <td>NaN</td>\n",
       "      <td>0.0</td>\n",
       "      <td>0.643</td>\n",
       "      <td>0.58521</td>\n",
       "      <td>0.834</td>\n",
       "      <td>0.58521</td>\n",
       "      <td>218.93179</td>\n",
       "      <td>0.247</td>\n",
       "      <td>0.581794</td>\n",
       "      <td>1.0</td>\n",
       "      <td>0.736</td>\n",
       "      <td>37.157357</td>\n",
       "      <td>California - LA</td>\n",
       "      <td>-63.933358</td>\n",
       "      <td>-11.197</td>\n",
       "      <td>0</td>\n",
       "      <td>0.636</td>\n",
       "      <td>300848</td>\n",
       "      <td>Fear Itself</td>\n",
       "      <td>ARV4KO21187FB38008</td>\n",
       "      <td>0.602120</td>\n",
       "      <td>SOMZWCG12A8C13C480</td>\n",
       "      <td>218.932</td>\n",
       "      <td>0.779</td>\n",
       "      <td>0.28519</td>\n",
       "      <td>92.198</td>\n",
       "      <td>hip hop</td>\n",
       "      <td>1.000000</td>\n",
       "      <td>4.0</td>\n",
       "      <td>0.778</td>\n",
       "      <td>I Didn't Mean To</td>\n",
       "      <td>0</td>\n",
       "    </tr>\n",
       "    <tr>\n",
       "      <th>1</th>\n",
       "      <td>0.417500</td>\n",
       "      <td>ARMJAGH1187FB546F3</td>\n",
       "      <td>The Box Tops</td>\n",
       "      <td>classic pop and rock</td>\n",
       "      <td>1.0</td>\n",
       "      <td>0.007</td>\n",
       "      <td>0.71054</td>\n",
       "      <td>1.000</td>\n",
       "      <td>0.20627</td>\n",
       "      <td>148.03546</td>\n",
       "      <td>0.148</td>\n",
       "      <td>0.630630</td>\n",
       "      <td>6.0</td>\n",
       "      <td>0.169</td>\n",
       "      <td>35.149680</td>\n",
       "      <td>Memphis, TN</td>\n",
       "      <td>-90.048920</td>\n",
       "      <td>-9.843</td>\n",
       "      <td>0</td>\n",
       "      <td>0.430</td>\n",
       "      <td>300822</td>\n",
       "      <td>Dimensions</td>\n",
       "      <td>ARSZWK21187B9B26D7</td>\n",
       "      <td>NaN</td>\n",
       "      <td>SOCIWDW12A8C13D406</td>\n",
       "      <td>137.915</td>\n",
       "      <td>0.969</td>\n",
       "      <td>0.20627</td>\n",
       "      <td>121.274</td>\n",
       "      <td>blue-eyed soul</td>\n",
       "      <td>1.000000</td>\n",
       "      <td>4.0</td>\n",
       "      <td>0.384</td>\n",
       "      <td>Soul Deep</td>\n",
       "      <td>1969</td>\n",
       "    </tr>\n",
       "    <tr>\n",
       "      <th>2</th>\n",
       "      <td>0.343428</td>\n",
       "      <td>ARKRRTF1187B9984DA</td>\n",
       "      <td>Sonora Santanera</td>\n",
       "      <td>NaN</td>\n",
       "      <td>0.0</td>\n",
       "      <td>0.980</td>\n",
       "      <td>0.73152</td>\n",
       "      <td>0.980</td>\n",
       "      <td>0.73152</td>\n",
       "      <td>177.47546</td>\n",
       "      <td>0.282</td>\n",
       "      <td>0.487357</td>\n",
       "      <td>8.0</td>\n",
       "      <td>0.643</td>\n",
       "      <td>37.157357</td>\n",
       "      <td>Not available</td>\n",
       "      <td>-63.933358</td>\n",
       "      <td>-9.689</td>\n",
       "      <td>1</td>\n",
       "      <td>0.565</td>\n",
       "      <td>514953</td>\n",
       "      <td>Las Numero 1 De La Sonora Santanera</td>\n",
       "      <td>ARFSJUG11C8A421AAD</td>\n",
       "      <td>NaN</td>\n",
       "      <td>SOXVLOJ12AB0189215</td>\n",
       "      <td>172.304</td>\n",
       "      <td>0.482</td>\n",
       "      <td>0.42132</td>\n",
       "      <td>100.070</td>\n",
       "      <td>salsa</td>\n",
       "      <td>1.000000</td>\n",
       "      <td>1.0</td>\n",
       "      <td>0.000</td>\n",
       "      <td>Amor De Cabaret</td>\n",
       "      <td>0</td>\n",
       "    </tr>\n",
       "    <tr>\n",
       "      <th>3</th>\n",
       "      <td>0.454231</td>\n",
       "      <td>AR7G5I41187FB4CE6C</td>\n",
       "      <td>Adam Ant</td>\n",
       "      <td>uk</td>\n",
       "      <td>1.0</td>\n",
       "      <td>0.017</td>\n",
       "      <td>1.30621</td>\n",
       "      <td>0.809</td>\n",
       "      <td>0.81002</td>\n",
       "      <td>233.40363</td>\n",
       "      <td>0.000</td>\n",
       "      <td>0.630382</td>\n",
       "      <td>0.0</td>\n",
       "      <td>0.751</td>\n",
       "      <td>37.157357</td>\n",
       "      <td>London, England</td>\n",
       "      <td>-63.933358</td>\n",
       "      <td>-9.013</td>\n",
       "      <td>1</td>\n",
       "      <td>0.749</td>\n",
       "      <td>287650</td>\n",
       "      <td>Friend Or Foe</td>\n",
       "      <td>AR4R0741187FB39AF2</td>\n",
       "      <td>NaN</td>\n",
       "      <td>SONHOTT12A8C13493C</td>\n",
       "      <td>217.124</td>\n",
       "      <td>0.601</td>\n",
       "      <td>0.56254</td>\n",
       "      <td>119.293</td>\n",
       "      <td>pop rock</td>\n",
       "      <td>0.988584</td>\n",
       "      <td>4.0</td>\n",
       "      <td>0.000</td>\n",
       "      <td>Something Girls</td>\n",
       "      <td>1982</td>\n",
       "    </tr>\n",
       "    <tr>\n",
       "      <th>4</th>\n",
       "      <td>0.401724</td>\n",
       "      <td>ARXR32B1187FB57099</td>\n",
       "      <td>Gob</td>\n",
       "      <td>NaN</td>\n",
       "      <td>0.0</td>\n",
       "      <td>0.175</td>\n",
       "      <td>1.06368</td>\n",
       "      <td>0.883</td>\n",
       "      <td>0.13576</td>\n",
       "      <td>209.60608</td>\n",
       "      <td>0.066</td>\n",
       "      <td>0.651046</td>\n",
       "      <td>2.0</td>\n",
       "      <td>0.092</td>\n",
       "      <td>37.157357</td>\n",
       "      <td>Not available</td>\n",
       "      <td>-63.933358</td>\n",
       "      <td>-4.501</td>\n",
       "      <td>1</td>\n",
       "      <td>0.371</td>\n",
       "      <td>611336</td>\n",
       "      <td>Muertos Vivos</td>\n",
       "      <td>ARUA62A1187B99D9B0</td>\n",
       "      <td>0.604501</td>\n",
       "      <td>SOFSOCN12A8C143F5D</td>\n",
       "      <td>198.699</td>\n",
       "      <td>1.000</td>\n",
       "      <td>0.13576</td>\n",
       "      <td>129.738</td>\n",
       "      <td>pop punk</td>\n",
       "      <td>0.887288</td>\n",
       "      <td>4.0</td>\n",
       "      <td>0.562</td>\n",
       "      <td>Face the Ashes</td>\n",
       "      <td>2007</td>\n",
       "    </tr>\n",
       "  </tbody>\n",
       "</table>\n",
       "</div>"
      ],
      "text/plain": [
       "   artist.hotttnesss           artist.id       artist.name  \\\n",
       "0           0.401998  ARD7TVE1187B99BFB1            Casual   \n",
       "1           0.417500  ARMJAGH1187FB546F3      The Box Tops   \n",
       "2           0.343428  ARKRRTF1187B9984DA  Sonora Santanera   \n",
       "3           0.454231  AR7G5I41187FB4CE6C          Adam Ant   \n",
       "4           0.401724  ARXR32B1187FB57099               Gob   \n",
       "\n",
       "          artist_mbtags  artist_mbtags_count  bars_confidence  bars_start  \\\n",
       "0                   NaN                  0.0            0.643     0.58521   \n",
       "1  classic pop and rock                  1.0            0.007     0.71054   \n",
       "2                   NaN                  0.0            0.980     0.73152   \n",
       "3                    uk                  1.0            0.017     1.30621   \n",
       "4                   NaN                  0.0            0.175     1.06368   \n",
       "\n",
       "   beats_confidence  beats_start   duration  end_of_fade_in  familiarity  key  \\\n",
       "0             0.834      0.58521  218.93179           0.247     0.581794  1.0   \n",
       "1             1.000      0.20627  148.03546           0.148     0.630630  6.0   \n",
       "2             0.980      0.73152  177.47546           0.282     0.487357  8.0   \n",
       "3             0.809      0.81002  233.40363           0.000     0.630382  0.0   \n",
       "4             0.883      0.13576  209.60608           0.066     0.651046  2.0   \n",
       "\n",
       "   key_confidence   latitude         location  longitude  loudness  mode  \\\n",
       "0           0.736  37.157357  California - LA -63.933358   -11.197     0   \n",
       "1           0.169  35.149680      Memphis, TN -90.048920    -9.843     0   \n",
       "2           0.643  37.157357    Not available -63.933358    -9.689     1   \n",
       "3           0.751  37.157357  London, England -63.933358    -9.013     1   \n",
       "4           0.092  37.157357    Not available -63.933358    -4.501     1   \n",
       "\n",
       "   mode_confidence  release.id                         release.name  \\\n",
       "0            0.636      300848                          Fear Itself   \n",
       "1            0.430      300822                           Dimensions   \n",
       "2            0.565      514953  Las Numero 1 De La Sonora Santanera   \n",
       "3            0.749      287650                        Friend Or Foe   \n",
       "4            0.371      611336                        Muertos Vivos   \n",
       "\n",
       "              similar  song.hotttnesss             song.id  start_of_fade_out  \\\n",
       "0  ARV4KO21187FB38008         0.602120  SOMZWCG12A8C13C480            218.932   \n",
       "1  ARSZWK21187B9B26D7              NaN  SOCIWDW12A8C13D406            137.915   \n",
       "2  ARFSJUG11C8A421AAD              NaN  SOXVLOJ12AB0189215            172.304   \n",
       "3  AR4R0741187FB39AF2              NaN  SONHOTT12A8C13493C            217.124   \n",
       "4  ARUA62A1187B99D9B0         0.604501  SOFSOCN12A8C143F5D            198.699   \n",
       "\n",
       "   tatums_confidence  tatums_start    tempo           terms  terms_freq  \\\n",
       "0              0.779       0.28519   92.198         hip hop    1.000000   \n",
       "1              0.969       0.20627  121.274  blue-eyed soul    1.000000   \n",
       "2              0.482       0.42132  100.070           salsa    1.000000   \n",
       "3              0.601       0.56254  119.293        pop rock    0.988584   \n",
       "4              1.000       0.13576  129.738        pop punk    0.887288   \n",
       "\n",
       "   time_signature  time_signature_confidence             title  year  \n",
       "0             4.0                      0.778  I Didn't Mean To     0  \n",
       "1             4.0                      0.384         Soul Deep  1969  \n",
       "2             1.0                      0.000   Amor De Cabaret     0  \n",
       "3             4.0                      0.000   Something Girls  1982  \n",
       "4             4.0                      0.562    Face the Ashes  2007  "
      ]
     },
     "execution_count": 3,
     "metadata": {},
     "output_type": "execute_result"
    }
   ],
   "source": [
    "#Import my data\n",
    "df = pd.read_csv('C:\\\\Users\\\\Square Bear\\\\Documents\\\\Thinkful\\\\Datasets\\\\music.csv')\n",
    "pd.options.display.max_columns = None\n",
    "df.head()"
   ]
  },
  {
   "cell_type": "code",
   "execution_count": 4,
   "metadata": {},
   "outputs": [
    {
     "name": "stdout",
     "output_type": "stream",
     "text": [
      "artist.hotttnesss               0\n",
      "artist.id                       0\n",
      "artist.name                     0\n",
      "artist_mbtags                6289\n",
      "artist_mbtags_count             0\n",
      "bars_confidence                 0\n",
      "bars_start                      0\n",
      "beats_confidence                0\n",
      "beats_start                     0\n",
      "duration                        0\n",
      "end_of_fade_in                  0\n",
      "familiarity                     4\n",
      "key                             0\n",
      "key_confidence                  0\n",
      "latitude                        0\n",
      "location                        0\n",
      "longitude                       0\n",
      "loudness                        0\n",
      "mode                            0\n",
      "mode_confidence                 0\n",
      "release.id                      0\n",
      "release.name                    0\n",
      "similar                         1\n",
      "song.hotttnesss              4351\n",
      "song.id                         0\n",
      "start_of_fade_out               0\n",
      "tatums_confidence               0\n",
      "tatums_start                    0\n",
      "tempo                           0\n",
      "terms                           5\n",
      "terms_freq                      0\n",
      "time_signature                  0\n",
      "time_signature_confidence       0\n",
      "title                           1\n",
      "year                            0\n",
      "dtype: int64\n"
     ]
    }
   ],
   "source": [
    "print (df.isna().sum())"
   ]
  },
  {
   "cell_type": "code",
   "execution_count": 5,
   "metadata": {},
   "outputs": [],
   "source": [
    "\n",
    "#Remove column with missing entries\n",
    "df = df.drop(['artist_mbtags'], axis=1)"
   ]
  },
  {
   "cell_type": "code",
   "execution_count": 6,
   "metadata": {},
   "outputs": [],
   "source": [
    "# this will take care of all the int or float columns\n",
    "df = df.fillna(df.mean()) \n",
    "\n",
    "# This takes care of the Nan in 'artist_mbtags'\n",
    "df['similar'] = df['similar'].fillna(df['similar'].mode()[0])\n",
    "df['terms'] = df['terms'].fillna(df['terms'].mode()[0])\n",
    "df['title'] = df['title'].fillna(df['title'].mode()[0])\n",
    "\n",
    "df['song_hotttnesss'] = np.where(df['song.hotttnesss'] >= 0.5, 1, 0)\n"
   ]
  },
  {
   "cell_type": "code",
   "execution_count": 7,
   "metadata": {},
   "outputs": [],
   "source": [
    "Q1 = df['loudness'].quantile(0.25) \n",
    "Q3 = df['loudness'].quantile(0.75) \n",
    "IQR = Q3 - Q1 \n",
    "cut_num = Q1 - 1.5 * IQR \n",
    "cut_num2 = Q3 + 1.5 * IQR \n",
    "def cut(x, cut_num):   \n",
    "        cut_num = -10   \n",
    "        if x < cut_num:      \n",
    "            x = cut_num   \n",
    "        else:     \n",
    "                x = x   \n",
    "        return x  \n",
    "    \n",
    "df['loudness'] = df['loudness'].apply(lambda x: cut_num if x<cut_num else x ) \n",
    "df['loudness'] = df['loudness'].apply(lambda x: cut_num2 if x > cut_num2 else x)"
   ]
  },
  {
   "cell_type": "code",
   "execution_count": 8,
   "metadata": {},
   "outputs": [],
   "source": [
    "Q1 = df['duration'].quantile(0.25) \n",
    "Q3 = df['duration'].quantile(0.75) \n",
    "IQR = Q3 - Q1 \n",
    "cut_num = Q1 - 1.5 * IQR \n",
    "cut_num2 = Q3 + 1.5 * IQR \n",
    "def cut(x, cut_num):   \n",
    "        cut_num = -10   \n",
    "        if x < cut_num:      \n",
    "            x = cut_num   \n",
    "        else:     \n",
    "                x = x   \n",
    "        return x  \n",
    "    \n",
    "df['duration'] = df['duration'].apply(lambda x: cut_num if x<cut_num else x ) \n",
    "df['duration'] = df['duration'].apply(lambda x: cut_num2 if x > cut_num2 else x)"
   ]
  },
  {
   "cell_type": "code",
   "execution_count": 9,
   "metadata": {},
   "outputs": [
    {
     "name": "stdout",
     "output_type": "stream",
     "text": [
      "artist.hotttnesss            0\n",
      "artist.id                    0\n",
      "artist.name                  0\n",
      "artist_mbtags_count          0\n",
      "bars_confidence              0\n",
      "bars_start                   0\n",
      "beats_confidence             0\n",
      "beats_start                  0\n",
      "duration                     0\n",
      "end_of_fade_in               0\n",
      "familiarity                  0\n",
      "key                          0\n",
      "key_confidence               0\n",
      "latitude                     0\n",
      "location                     0\n",
      "longitude                    0\n",
      "loudness                     0\n",
      "mode                         0\n",
      "mode_confidence              0\n",
      "release.id                   0\n",
      "release.name                 0\n",
      "similar                      0\n",
      "song.hotttnesss              0\n",
      "song.id                      0\n",
      "start_of_fade_out            0\n",
      "tatums_confidence            0\n",
      "tatums_start                 0\n",
      "tempo                        0\n",
      "terms                        0\n",
      "terms_freq                   0\n",
      "time_signature               0\n",
      "time_signature_confidence    0\n",
      "title                        0\n",
      "year                         0\n",
      "song_hotttnesss              0\n",
      "dtype: int64 artist.hotttnesss            float64\n",
      "artist.id                     object\n",
      "artist.name                   object\n",
      "artist_mbtags_count          float64\n",
      "bars_confidence              float64\n",
      "bars_start                   float64\n",
      "beats_confidence             float64\n",
      "beats_start                  float64\n",
      "duration                     float64\n",
      "end_of_fade_in               float64\n",
      "familiarity                  float64\n",
      "key                          float64\n",
      "key_confidence               float64\n",
      "latitude                     float64\n",
      "location                      object\n",
      "longitude                    float64\n",
      "loudness                     float64\n",
      "mode                           int64\n",
      "mode_confidence              float64\n",
      "release.id                     int64\n",
      "release.name                  object\n",
      "similar                       object\n",
      "song.hotttnesss              float64\n",
      "song.id                       object\n",
      "start_of_fade_out            float64\n",
      "tatums_confidence            float64\n",
      "tatums_start                 float64\n",
      "tempo                        float64\n",
      "terms                         object\n",
      "terms_freq                   float64\n",
      "time_signature               float64\n",
      "time_signature_confidence    float64\n",
      "title                         object\n",
      "year                           int64\n",
      "song_hotttnesss                int32\n",
      "dtype: object\n"
     ]
    }
   ],
   "source": [
    "print (df.isna().sum(), df.dtypes)"
   ]
  },
  {
   "cell_type": "code",
   "execution_count": 10,
   "metadata": {},
   "outputs": [
    {
     "name": "stdout",
     "output_type": "stream",
     "text": [
      "<class 'pandas.core.frame.DataFrame'>\n",
      "RangeIndex: 10000 entries, 0 to 9999\n",
      "Data columns (total 35 columns):\n",
      "artist.hotttnesss            10000 non-null float64\n",
      "artist.id                    10000 non-null object\n",
      "artist.name                  10000 non-null object\n",
      "artist_mbtags_count          10000 non-null float64\n",
      "bars_confidence              10000 non-null float64\n",
      "bars_start                   10000 non-null float64\n",
      "beats_confidence             10000 non-null float64\n",
      "beats_start                  10000 non-null float64\n",
      "duration                     10000 non-null float64\n",
      "end_of_fade_in               10000 non-null float64\n",
      "familiarity                  10000 non-null float64\n",
      "key                          10000 non-null float64\n",
      "key_confidence               10000 non-null float64\n",
      "latitude                     10000 non-null float64\n",
      "location                     10000 non-null object\n",
      "longitude                    10000 non-null float64\n",
      "loudness                     10000 non-null float64\n",
      "mode                         10000 non-null int64\n",
      "mode_confidence              10000 non-null float64\n",
      "release.id                   10000 non-null int64\n",
      "release.name                 10000 non-null object\n",
      "similar                      10000 non-null object\n",
      "song.hotttnesss              10000 non-null float64\n",
      "song.id                      10000 non-null object\n",
      "start_of_fade_out            10000 non-null float64\n",
      "tatums_confidence            10000 non-null float64\n",
      "tatums_start                 10000 non-null float64\n",
      "tempo                        10000 non-null float64\n",
      "terms                        10000 non-null object\n",
      "terms_freq                   10000 non-null float64\n",
      "time_signature               10000 non-null float64\n",
      "time_signature_confidence    10000 non-null float64\n",
      "title                        10000 non-null object\n",
      "year                         10000 non-null int64\n",
      "song_hotttnesss              10000 non-null int32\n",
      "dtypes: float64(23), int32(1), int64(3), object(8)\n",
      "memory usage: 2.6+ MB\n"
     ]
    }
   ],
   "source": [
    "df.info()"
   ]
  },
  {
   "cell_type": "code",
   "execution_count": 11,
   "metadata": {},
   "outputs": [
    {
     "data": {
      "text/plain": [
       "Text(0.5, 1.0, 'Histogram of Song Hotness')"
      ]
     },
     "execution_count": 11,
     "metadata": {},
     "output_type": "execute_result"
    },
    {
     "data": {
      "image/png": "[encoded data removed]",
      "text/plain": [
       "<Figure size 432x288 with 1 Axes>"
      ]
     },
     "metadata": {
      "needs_background": "light"
     },
     "output_type": "display_data"
    }
   ],
   "source": [
    "#Histogram of target variable\n",
    "df['song.hotttnesss'].hist()\n",
    "plt.xlabel('Song Hotness')\n",
    "plt.ylabel('Frequency')\n",
    "plt.title('Histogram of Song Hotness')"
   ]
  },
  {
   "cell_type": "code",
   "execution_count": 12,
   "metadata": {},
   "outputs": [
    {
     "data": {
      "text/plain": [
       "Text(0.5, 1.0, 'Histogram of Log of Song Hotness')"
      ]
     },
     "execution_count": 12,
     "metadata": {},
     "output_type": "execute_result"
    },
    {
     "data": {
      "image/png": "[encoded data removed]",
      "text/plain": [
       "<Figure size 432x288 with 1 Axes>"
      ]
     },
     "metadata": {
      "needs_background": "light"
     },
     "output_type": "display_data"
    }
   ],
   "source": [
    "#The log of song hotness\n",
    "song_hot_log = np.log(df['song.hotttnesss'] + 10)\n",
    "song_hot_log.hist()\n",
    "plt.xlabel('Log of Song Hotness')\n",
    "plt.ylabel('Frequency')\n",
    "plt.title('Histogram of Log of Song Hotness')"
   ]
  },
  {
   "cell_type": "code",
   "execution_count": 13,
   "metadata": {},
   "outputs": [],
   "source": [
    "key = df['key']\n"
   ]
  },
  {
   "cell_type": "code",
   "execution_count": 14,
   "metadata": {},
   "outputs": [],
   "source": [
    "key = key.reset_index()"
   ]
  },
  {
   "cell_type": "code",
   "execution_count": 15,
   "metadata": {},
   "outputs": [
    {
     "data": {
      "text/html": [
       "<div>\n",
       "<style scoped>\n",
       "    .dataframe tbody tr th:only-of-type {\n",
       "        vertical-align: middle;\n",
       "    }\n",
       "\n",
       "    .dataframe tbody tr th {\n",
       "        vertical-align: top;\n",
       "    }\n",
       "\n",
       "    .dataframe thead th {\n",
       "        text-align: right;\n",
       "    }\n",
       "</style>\n",
       "<table border=\"1\" class=\"dataframe\">\n",
       "  <thead>\n",
       "    <tr style=\"text-align: right;\">\n",
       "      <th></th>\n",
       "      <th>index</th>\n",
       "      <th>key</th>\n",
       "    </tr>\n",
       "  </thead>\n",
       "  <tbody>\n",
       "    <tr>\n",
       "      <th>0</th>\n",
       "      <td>0.0</td>\n",
       "      <td>1.0</td>\n",
       "    </tr>\n",
       "    <tr>\n",
       "      <th>1</th>\n",
       "      <td>1.0</td>\n",
       "      <td>6.0</td>\n",
       "    </tr>\n",
       "    <tr>\n",
       "      <th>2</th>\n",
       "      <td>2.0</td>\n",
       "      <td>8.0</td>\n",
       "    </tr>\n",
       "    <tr>\n",
       "      <th>3</th>\n",
       "      <td>3.0</td>\n",
       "      <td>0.0</td>\n",
       "    </tr>\n",
       "    <tr>\n",
       "      <th>4</th>\n",
       "      <td>4.0</td>\n",
       "      <td>2.0</td>\n",
       "    </tr>\n",
       "  </tbody>\n",
       "</table>\n",
       "</div>"
      ],
      "text/plain": [
       "   index  key\n",
       "0    0.0  1.0\n",
       "1    1.0  6.0\n",
       "2    2.0  8.0\n",
       "3    3.0  0.0\n",
       "4    4.0  2.0"
      ]
     },
     "execution_count": 15,
     "metadata": {},
     "output_type": "execute_result"
    }
   ],
   "source": [
    "key = key[(key<13)]\n",
    "key.head()"
   ]
  },
  {
   "cell_type": "code",
   "execution_count": 16,
   "metadata": {
    "scrolled": true
   },
   "outputs": [
    {
     "data": {
      "text/plain": [
       "<matplotlib.legend.Legend at 0x1568bcae748>"
      ]
     },
     "execution_count": 16,
     "metadata": {},
     "output_type": "execute_result"
    },
    {
     "data": {
      "image/png": "[encoded data removed]",
      "text/plain": [
       "<Figure size 432x288 with 1 Axes>"
      ]
     },
     "metadata": {},
     "output_type": "display_data"
    }
   ],
   "source": [
    "#Finding the frequency each musical key is used\n",
    "key.key.value_counts().plot(kind='pie', autopct='%1.0f%%')\n",
    "plt.title('Pie Chart of Keys of Songs')\n",
    "\n",
    "labels = ['7.0 = G', '0.0 = C', '2.0 = D', '9.0 = A', '1.0 = C#', '4.0 = E', '5.0 = F', '11.0 = B', '10.0 = B flat', '6.0 = F#', '8.0 = A flat', '3.0 = E flat']\n",
    "plt.legend(labels,loc='center left', bbox_to_anchor=(1, 0.5))\n",
    "#ax.legend(loc='center left', bbox_to_anchor=(1, 0.5))\n"
   ]
  },
  {
   "cell_type": "code",
   "execution_count": 17,
   "metadata": {},
   "outputs": [],
   "source": [
    "#Numeric Features\n",
    "numeric = df.select_dtypes(exclude = ['object'])\n",
    "\n",
    "#Object features\n",
    "obj = df.select_dtypes(include = ['object'])"
   ]
  },
  {
   "cell_type": "code",
   "execution_count": 18,
   "metadata": {},
   "outputs": [
    {
     "data": {
      "image/png": "[encoded data removed]",
      "text/plain": [
       "<Figure size 432x288 with 1 Axes>"
      ]
     },
     "metadata": {
      "needs_background": "light"
     },
     "output_type": "display_data"
    }
   ],
   "source": [
    "from sklearn.neighbors import KNeighborsClassifier\n",
    "from scipy import stats\n",
    "\n",
    "neighbors = KNeighborsClassifier(n_neighbors=5, weights='distance')\n",
    "\n",
    "# Our input data frame will be the z-scores this time instead of raw data.\n",
    "X = pd.DataFrame({\n",
    "    'tempo': stats.zscore(df.tempo),\n",
    "    'familiarity': stats.zscore(df.familiarity)\n",
    "})\n",
    "\n",
    "# Fit our model.\n",
    "Y = df['song_hotttnesss']\n",
    "neighbors.fit(X, Y)\n",
    "\n",
    "# Arrays, not data frames, for the mesh.\n",
    "X = np.array(X)\n",
    "Y = np.array(Y)\n",
    "\n",
    "# Mesh size.\n",
    "h = .01\n",
    "\n",
    "# Plot the decision boundary. We assign a color to each point in the mesh.\n",
    "x_min = X[:,0].min() - .5\n",
    "x_max = X[:,0].max() + .5\n",
    "y_min = X[:,1].min() - .5\n",
    "y_max = X[:,1].max() + .5\n",
    "xx, yy = np.meshgrid(\n",
    "    np.arange(x_min, x_max, h),\n",
    "    np.arange(y_min, y_max, h)\n",
    ")\n",
    "Z = neighbors.predict(np.c_[xx.ravel(), yy.ravel()])\n",
    "\n",
    "# Put the result into a color plot\n",
    "Z = Z.reshape(xx.shape)\n",
    "plt.figure(1, figsize=(6, 4))\n",
    "plt.set_cmap(plt.cm.Paired)\n",
    "plt.pcolormesh(xx, yy, Z)\n",
    "\n",
    "# Add the training points to the plot.\n",
    "plt.scatter(X[:, 0], X[:, 1], c=Y)\n",
    "plt.xlabel('Tempo')\n",
    "plt.ylabel('Familiarity')\n",
    "plt.title('KNN Neighbors for Tempo and Familiarity on Song Hotness')\n",
    "\n",
    "plt.xlim(xx.min(), xx.max())\n",
    "plt.ylim(yy.min(), yy.max())\n",
    "\n",
    "plt.show()"
   ]
  },
  {
   "cell_type": "code",
   "execution_count": null,
   "metadata": {},
   "outputs": [],
   "source": [
    "from sklearn import ensemble\n",
    "from sklearn.model_selection import cross_val_score\n",
    "\n",
    "rfc = ensemble.RandomForestClassifier()\n",
    "X = df.drop('song_hotttnesss', 1)\n",
    "Y = df['song_hotttnesss']\n",
    "X = pd.get_dummies(X)\n",
    "X = X.dropna(axis=1)\n",
    "\n",
    "cross_val_score(rfc, X, Y, cv=10)"
   ]
  },
  {
   "cell_type": "code",
   "execution_count": null,
   "metadata": {
    "scrolled": true
   },
   "outputs": [],
   "source": [
    "music = df[['song_hotttnesss','artist.hotttnesss', 'familiarity', 'duration', 'key', 'loudness', 'year', 'tempo']]\n",
    "music.head()"
   ]
  },
  {
   "cell_type": "code",
   "execution_count": null,
   "metadata": {
    "scrolled": true
   },
   "outputs": [],
   "source": [
    "start_time = timeit.default_timer()\n",
    "\n",
    "for i in range(1,11,1):\n",
    "    decision_tree = tree.DecisionTreeClassifier(criterion = 'gini', max_depth = i, random_state = 0)\n",
    "    X = music.drop('song_hotttnesss', 1)\n",
    "    Y = music['song_hotttnesss']\n",
    "    decision_tree.fit(X,Y)\n",
    "\n",
    "    dot_data = tree.export_graphviz(decision_tree, out_file = None, feature_names = X.columns, class_names=['Good', 'Bad'], filled=True)\n",
    "    graph = pydotplus.graph_from_dot_data(dot_data)\n",
    "    Image(graph.create_png())\n",
    "    print('Decision Tree Depth: {}'.format(i))\n",
    "    print('Model Performance: {:.2%}.\\n'.format(cross_val_score(decision_tree, X, Y, cv=10).mean()))\n",
    "\n",
    "print(\"--- Runtime: %s seconds. ---\" % (timeit.default_timer() - start_time))"
   ]
  },
  {
   "cell_type": "code",
   "execution_count": null,
   "metadata": {
    "scrolled": true
   },
   "outputs": [],
   "source": [
    "import itertools \n",
    "import matplotlib.gridspec as gridspec\n",
    "\n",
    "label = numeric.columns.tolist() # 18 \n",
    "clf_list = list(range(0, 18) ) \n",
    "\n",
    "fig = plt.figure(figsize=(36, 24)) \n",
    "gs = gridspec.GridSpec(5, 5) \n",
    "grid = itertools.product([0,1, 2, 3, 4 ],repeat=2)\n",
    "\n",
    "print (grid)\n",
    "\n",
    "for clf, label, grd in zip(clf_list, label, grid):\n",
    "\n",
    " #plt.subplot(3, 3, 3)\n",
    " ax = plt.subplot(gs[grd[0], grd[1]])\n",
    " plt.hist(numeric[label])\n",
    " plt.title(label)\n",
    "\n",
    "plt.show()\n"
   ]
  },
  {
   "cell_type": "code",
   "execution_count": null,
   "metadata": {},
   "outputs": [],
   "source": [
    "from sklearn import preprocessing\n",
    "obj0 = obj.apply(preprocessing.LabelEncoder().fit_transform)\n",
    "\n",
    "from sklearn.preprocessing import StandardScaler\n",
    "\n",
    "scaler = StandardScaler()\n",
    "\n",
    "obj1 = scaler.fit_transform(obj0)\n",
    "obj2 = pd.DataFrame(obj1)\n",
    "\n",
    "\n",
    "print(obj2.head())"
   ]
  },
  {
   "cell_type": "code",
   "execution_count": null,
   "metadata": {},
   "outputs": [],
   "source": [
    "df = pd.concat([numeric, obj2], axis = 1)\n",
    "df.head()"
   ]
  },
  {
   "cell_type": "code",
   "execution_count": null,
   "metadata": {},
   "outputs": [],
   "source": [
    "y = df['song_hotttnesss']\n",
    "X = df.loc[:, df.columns.isin(['artist.hotttnesss','tempo', 'loudness', 'familiarity', 'key', 'duration','time_signature','year'])]\n",
    "#X = df.loc[:, df.columns != 'song_hotttnesss']\n",
    "#X = X.drop('song.hotttnesss', axis=1)\n",
    "\n",
    "\n",
    "# Make the categorical variable 'country' into dummies.\n",
    "#X = pd.concat([X, pd.get_dummies(df['location'])], axis=1)\n",
    "\n",
    "# Create training and test sets.\n",
    "offset = int(X.shape[0] * 0.8)\n",
    "\n",
    "# Put 90% of the data in the training set.\n",
    "X_train, y_train = X[:offset], y[:offset]\n",
    "\n",
    "# And put 10% in the test set.\n",
    "X_test, y_test = X[offset:], y[offset:]\n",
    "\n",
    "print(X_train.head())\n",
    "\n",
    "print(y_train.head())"
   ]
  },
  {
   "cell_type": "code",
   "execution_count": null,
   "metadata": {},
   "outputs": [],
   "source": [
    "np.any(np.isnan(df))\n"
   ]
  },
  {
   "cell_type": "code",
   "execution_count": null,
   "metadata": {},
   "outputs": [],
   "source": [
    "#Ridge Regression\n",
    "# Set up the regression model to predict defaults using all other\n",
    "# variables as features.\n",
    "regr1 = linear_model.LinearRegression()\n",
    "regr1.fit(X_train, y_train)\n",
    "print('\\nR-squared simple Ridge Regression model:')\n",
    "print(regr1.score(X_train, y_train))\n",
    "\n",
    "#Store the parameter estimates.\n",
    "origparams = np.append(regr1.coef_, regr1.intercept_)\n"
   ]
  },
  {
   "cell_type": "code",
   "execution_count": null,
   "metadata": {},
   "outputs": [],
   "source": [
    "#Lasso Regression\n",
    "# Small number of parameters.\n",
    "lass = linear_model.Lasso(alpha=.35)\n",
    "lassfit = lass.fit(X_train, y_train)\n",
    "print('R² for the Lasso Regression model:')\n",
    "print(lass.score(X_train, y_train))\n",
    "origparams = np.append(lassfit.coef_, lassfit.intercept_)\n",
    "print('\\nParameter estimates for the model:')\n",
    "print(origparams)\n"
   ]
  },
  {
   "cell_type": "code",
   "execution_count": null,
   "metadata": {},
   "outputs": [],
   "source": [
    "#Pipeline Construction.\n",
    "anova = SelectKBest(f_classif, k=3)\n",
    "svm = SVC(kernel='rbf')\n",
    "anova_svm = make_pipeline(anova, svm)\n",
    "\n",
    "#Fitting & Cross-Validation.\n",
    "anova_svm.fit(X_train,y_train)\n",
    "scores = cross_val_score(anova_svm, X_test, y_test, cv=2)\n",
    "\n",
    "#De-Masking Selected Features.\n",
    "features = anova.get_support(indices=True)\n",
    "feature_names = list(X_test.columns)\n",
    "selected_features = []\n",
    "for feature in features:\n",
    "    selected_features.append(feature_names[feature])\n",
    "\n",
    "#Printing Outcomes.\n",
    "print('ANOVA Cross-Validation Scores: {}\\n'.format(scores))\n",
    "print('ANOVA Cross-Validation Score Averaged Across Folds: {:.2%}.\\n'.format(scores.mean()))\n",
    "print('Selected Features: {}\\n'.format(selected_features))"
   ]
  },
  {
   "cell_type": "code",
   "execution_count": null,
   "metadata": {
    "scrolled": true
   },
   "outputs": [],
   "source": [
    "# Define outcome and predictors.\n",
    "y = df['song.hotttnesss']\n",
    "X = df.loc[:, ~df.columns.isin(['song.hotttnesss'])]\n",
    "\n",
    "# Make the categorical variable 'country' into dummies.\n",
    "#X = pd.concat([X, pd.get_dummies(df['cntry'])], axis=1)\n",
    "\n",
    "# Store values from loops.\n",
    "preds = pd.DataFrame()\n",
    "labels = []\n",
    "\n",
    "uniquex = df['song.hotttnesss'].unique()\n",
    "\n",
    "# Iterate through decision trees, each time using the residuals\n",
    "# from the previous tree as the inputs.\n",
    "for m in range(0, 101):\n",
    "    \n",
    "    # Initialize and fit the tree. Set the max depth to 2.\n",
    "    decision_tree = tree.DecisionTreeRegressor(max_depth=2)\n",
    "    decision_tree.fit(X,y)\n",
    "    \n",
    "    # Get and store predicted values.\n",
    "    pred = decision_tree.predict(X)\n",
    "    preds['pred{}'.format(m)] = pred\n",
    "    \n",
    "    # Residuals.\n",
    "    y = y - pred\n",
    "\n",
    "    # Output every 20 iterations.\n",
    "    if m % 20 == 0:\n",
    "        print('Weak learner {} R^2: {}'.format(m, decision_tree.score(X, y)))\n",
    "        labels = labels + [m]\n",
    "        bestpred = preds.sum(axis=1)\n",
    "        plt.plot(uniquex, np.poly1d(np.polyfit(df['song.hotttnesss'], bestpred, 1))(uniquex))\n",
    "       \n",
    "plt.legend(labels)\n",
    "plt.xlabel('Original')\n",
    "plt.ylabel('Predicted')\n",
    "plt.title('Gradient Boost')\n",
    "plt.show()\n",
    "predicted = preds.sum(axis=1)\n",
    "\n",
    "print('Overall R^2:')\n",
    "print(np.corrcoef(df['song.hotttnesss'], predicted)[0, 1])"
   ]
  },
  {
   "cell_type": "code",
   "execution_count": null,
   "metadata": {},
   "outputs": [],
   "source": [
    "# We'll make 500 iterations, use 2-deep trees, and set our loss function.\n",
    "params = {'n_estimators': 500,\n",
    "          'max_depth': 2,\n",
    "          'loss': 'deviance'}\n",
    "\n",
    "# Initialize and fit the model.clf = ensemble.GradientBoostingClassifier(**params)\n",
    "clf = ensemble.GradientBoostingClassifier(**params)\n",
    "clf.fit(X_train, y_train)\n",
    "\n",
    "predict_train = clf.predict(X_train)\n",
    "predict_test = clf.predict(X_test)\n",
    "\n",
    "\n",
    "# Accuracy tables.\n",
    "table_train = pd.crosstab(y_train, predict_train, margins=True)\n",
    "table_test = pd.crosstab(y_test, predict_test, margins=True)\n",
    "print(table_train)\n"
   ]
  },
  {
   "cell_type": "code",
   "execution_count": null,
   "metadata": {},
   "outputs": [],
   "source": [
    "train_tI_errors = table_train.loc[0.0,1.0] / table_train.loc['All','All']\n",
    "train_tII_errors = table_train.loc[1.0,0.0] / table_train.loc['All','All']\n",
    "\n",
    "test_tI_errors = table_test.loc[0.0,1.0]/table_test.loc['All','All']\n",
    "test_tII_errors = table_test.loc[1.0,0.0]/table_test.loc['All','All']\n",
    "\n",
    "\n",
    "print((\n",
    "    'Training set accuracy:\\n'\n",
    "    'Percent Type I errors: {}\\n'\n",
    "    'Percent Type II errors: {}\\n\\n'\n",
    "    'Test set accuracy:\\n'\n",
    "    'Percent Type I errors: {}\\n'\n",
    "    'Percent Type II errors: {}'\n",
    ").format(train_tI_errors, train_tII_errors, test_tI_errors, test_tII_errors))"
   ]
  },
  {
   "cell_type": "code",
   "execution_count": null,
   "metadata": {
    "scrolled": true
   },
   "outputs": [],
   "source": [
    "feature_importance = clf.feature_importances_\n",
    "\n",
    "# Make importances relative to max importance.\n",
    "feature_importance = 100.0 * (feature_importance / feature_importance.max())\n",
    "sorted_idx = np.argsort(feature_importance)\n",
    "pos = np.arange(sorted_idx.shape[0]) + .5\n",
    "plt.subplot(1, 2, 2)\n",
    "plt.barh(pos, feature_importance[sorted_idx], align='center')\n",
    "plt.yticks(pos, X.columns[sorted_idx])\n",
    "plt.xlabel('Relative Importance')\n",
    "plt.title('Variable Importance')\n",
    "plt.show()"
   ]
  },
  {
   "cell_type": "code",
   "execution_count": null,
   "metadata": {
    "scrolled": true
   },
   "outputs": [],
   "source": [
    "plt.figure(figsize=(10,8))\n",
    "correlations = music.corr()\n",
    "matrix = sns.heatmap(correlations,annot=True,linecolor='k',linewidth=1,cmap='viridis_r')"
   ]
  },
  {
   "cell_type": "code",
   "execution_count": null,
   "metadata": {},
   "outputs": [],
   "source": [
    "# Make the correlation matrix.\n",
    "cor = df.corr()\n",
    "\n",
    "# Set up the matplotlib figure.\n",
    "f, ax = plt.subplots(figsize=(12, 9))\n",
    "\n",
    "# Draw the heatmap using seaborn.\n",
    "sns.heatmap(cor, vmax=.8, square=True)\n",
    "plt.show()\n"
   ]
  },
  {
   "cell_type": "code",
   "execution_count": null,
   "metadata": {},
   "outputs": [],
   "source": [
    "# Statsmodel logistic regression\n",
    "\n",
    "# Declare predictors.\n",
    "y_statsmod = df['song.hotttnesss']\n",
    "x_statsmod = df.iloc[:,:-1]\n",
    "\n",
    "# The Statsmodels formulation requires a column with constant value 1 that will act as the intercept.\n",
    "x_statsmod['intercept'] = 1 \n",
    "\n",
    "# Declare and fit the model.\n",
    "logit = sm.Logit(y_statsmod, x_statsmod)\n",
    "result = logit.fit()\n",
    "\n",
    "# Lots of information about the model and its coefficients, but the\n",
    "# accuracy rate for predictions is missing.\n",
    "print(result.summary())"
   ]
  },
  {
   "cell_type": "code",
   "execution_count": null,
   "metadata": {},
   "outputs": [],
   "source": [
    "#The Statsmodels formulation requires a column with constant value 1 that will act as the intercept.\n",
    "\n",
    "X_train['intercept'] = 1\n",
    "#Declare and fit the model.\n",
    "\n",
    "logit = sm.Logit(y_train, X_train) \n",
    "result = logit.fit() \n",
    "#predictions = result.predict( y_test) # vs x_test\n",
    "print(result.summary())\n",
    "\n"
   ]
  },
  {
   "cell_type": "code",
   "execution_count": null,
   "metadata": {},
   "outputs": [],
   "source": [
    "ypred = result.predict(X_train) \n",
    "print(ypred)\n"
   ]
  },
  {
   "cell_type": "code",
   "execution_count": null,
   "metadata": {},
   "outputs": [],
   "source": [
    "\n",
    "print(X_train.head())"
   ]
  },
  {
   "cell_type": "code",
   "execution_count": null,
   "metadata": {},
   "outputs": [],
   "source": [
    "X_train['intercept'] = 1 #Declare and fit the model.\n",
    "\n",
    "logit = sm.Logit(y_train, X_train) \n",
    "result = logit.fit()\n",
    "\n",
    "print(result.summary())\n",
    "\n",
    "ypred = result.predict(X_train)\n",
    "print (len(ypred))\n",
    "print (len(y_test))\n",
    "\n",
    "\n",
    "#table_test = pd.crosstab(y_test, ypred, margins=True) \n",
    "#print(table_train)\n"
   ]
  },
  {
   "cell_type": "code",
   "execution_count": null,
   "metadata": {},
   "outputs": [],
   "source": [
    "df.duration.mode()"
   ]
  },
  {
   "cell_type": "code",
   "execution_count": null,
   "metadata": {},
   "outputs": [],
   "source": [
    "df.time_signature.mode()"
   ]
  },
  {
   "cell_type": "code",
   "execution_count": null,
   "metadata": {},
   "outputs": [],
   "source": [
    "df.plot.scatter(x='familiarity', y='song.hotttnesss', title= \"Scatter plot between Familiarity and Song Hotness\");\n",
    "\n",
    "plt.show(block=True)"
   ]
  },
  {
   "cell_type": "code",
   "execution_count": null,
   "metadata": {},
   "outputs": [],
   "source": [
    "df.plot.scatter(x='artist.hotttnesss', y='song.hotttnesss', title= \"Scatter plot between Artist Hotness and Song Hotness\");\n",
    "\n",
    "plt.show(block=True)"
   ]
  },
  {
   "cell_type": "code",
   "execution_count": null,
   "metadata": {},
   "outputs": [],
   "source": [
    "df['artist.hotttnesss'].mean()"
   ]
  },
  {
   "cell_type": "code",
   "execution_count": null,
   "metadata": {},
   "outputs": [],
   "source": [
    "df.plot.scatter(x='bars_start', y='song.hotttnesss', title= \"Scatter plot between Bars Start and Song Hotness\");\n",
    "\n",
    "plt.show(block=True)"
   ]
  },
  {
   "cell_type": "code",
   "execution_count": null,
   "metadata": {},
   "outputs": [],
   "source": [
    "df.plot.scatter(x='beats_start', y='song.hotttnesss', title= \"Scatter plot between Beats Start and Song Hotness\");\n",
    "\n",
    "plt.show(block=True)"
   ]
  },
  {
   "cell_type": "code",
   "execution_count": null,
   "metadata": {},
   "outputs": [],
   "source": [
    "df.plot.scatter(x='key_confidence', y='song.hotttnesss', title= \"Scatter plot between Key Confidence and Song Hotness\");\n",
    "\n",
    "plt.show(block=True)"
   ]
  },
  {
   "cell_type": "code",
   "execution_count": null,
   "metadata": {},
   "outputs": [],
   "source": [
    "df.plot.scatter(x='tempo', y='song.hotttnesss', title= \"Scatter plot between Tempo and Song Hotness\");\n",
    "\n",
    "plt.show(block=True)"
   ]
  },
  {
   "cell_type": "code",
   "execution_count": null,
   "metadata": {},
   "outputs": [],
   "source": [
    "df.plot.scatter(x='tatums_start', y='song.hotttnesss', title= \"Scatter plot between Tatums Start and Song Hotness\");\n",
    "\n",
    "plt.show(block=True)"
   ]
  },
  {
   "cell_type": "code",
   "execution_count": null,
   "metadata": {},
   "outputs": [],
   "source": [
    "df.plot.scatter(x='loudness', y='song.hotttnesss', title= \"Scatter plot between Loudness and Song Hotness\");\n",
    "\n",
    "plt.show(block=True)"
   ]
  },
  {
   "cell_type": "code",
   "execution_count": null,
   "metadata": {},
   "outputs": [],
   "source": [
    "df.plot.scatter(x='time_signature', y='song.hotttnesss', title= \"Scatter plot between Time Signature and Song Hotness\");\n",
    "\n",
    "plt.show(block=True)"
   ]
  },
  {
   "cell_type": "code",
   "execution_count": null,
   "metadata": {},
   "outputs": [],
   "source": [
    "df.plot.scatter(x='year', y='song.hotttnesss', title= \"Scatter plot between Year and Song Hotness\");\n",
    "\n",
    "plt.show(block=True)"
   ]
  },
  {
   "cell_type": "code",
   "execution_count": null,
   "metadata": {},
   "outputs": [],
   "source": []
  }
 ],
 "metadata": {
  "kernelspec": {
   "display_name": "Python 3",
   "language": "python",
   "name": "python3"
  },
  "language_info": {
   "codemirror_mode": {
    "name": "ipython",
    "version": 3
   },
   "file_extension": ".py",
   "mimetype": "text/x-python",
   "name": "python",
   "nbconvert_exporter": "python",
   "pygments_lexer": "ipython3",
   "version": "3.7.1"
  }
 },
 "nbformat": 4,
 "nbformat_minor": 2
}
